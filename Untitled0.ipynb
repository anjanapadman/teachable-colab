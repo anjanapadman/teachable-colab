{
  "nbformat": 4,
  "nbformat_minor": 0,
  "metadata": {
    "colab": {
      "name": "Untitled0.ipynb",
      "provenance": [],
      "collapsed_sections": [],
      "toc_visible": true,
      "authorship_tag": "ABX9TyO6w6TLH4UOrY01G9OWpXz3",
      "include_colab_link": true
    },
    "kernelspec": {
      "name": "python3",
      "display_name": "Python 3"
    },
    "language_info": {
      "name": "python"
    }
  },
  "cells": [
    {
      "cell_type": "markdown",
      "metadata": {
        "id": "view-in-github",
        "colab_type": "text"
      },
      "source": [
        "<a href=\"https://colab.research.google.com/github/anjanapadman/teachable-colab/blob/main/Untitled0.ipynb\" target=\"_parent\"><img src=\"https://colab.research.google.com/assets/colab-badge.svg\" alt=\"Open In Colab\"/></a>"
      ]
    },
    {
      "cell_type": "code",
      "execution_count": null,
      "metadata": {
        "id": "A5b-quWiuffl"
      },
      "outputs": [],
      "source": [
        "t"
      ]
    },
    {
      "cell_type": "markdown",
      "source": [
        "to find factorial of a number\n"
      ],
      "metadata": {
        "id": "T7nrRjbmuugB"
      }
    },
    {
      "cell_type": "code",
      "source": [
        "f=1\n",
        "x=int(input(\"enter a number\"))\n",
        "for i in  range(1,x+1):\n",
        "  f=f*i\n",
        "print(f)"
      ],
      "metadata": {
        "colab": {
          "base_uri": "https://localhost:8080/"
        },
        "id": "iF7oKIAfu4yO",
        "outputId": "a2b3fb42-48d8-4f69-e583-8ae7e980a7e0"
      },
      "execution_count": null,
      "outputs": [
        {
          "output_type": "stream",
          "name": "stdout",
          "text": [
            "enter a number5\n",
            "120\n"
          ]
        }
      ]
    },
    {
      "cell_type": "code",
      "source": [
        ""
      ],
      "metadata": {
        "id": "9rfvtCwPwSsF"
      },
      "execution_count": null,
      "outputs": []
    },
    {
      "cell_type": "markdown",
      "source": [
        "to print a particular pattern\n"
      ],
      "metadata": {
        "id": "enY5v-fFwTIJ"
      }
    },
    {
      "cell_type": "code",
      "source": [
        "x=int(input(\"enter a number\"))\n",
        "for i in range(1,x+1):\n",
        "  for j in range(1,i+1):\n",
        "    print(j,end=\"\")\n",
        "  print(\"\\r\")\n"
      ],
      "metadata": {
        "colab": {
          "base_uri": "https://localhost:8080/"
        },
        "id": "WtNAbyYbwXxo",
        "outputId": "bf17f064-a929-42c2-94b8-2d206d4c1cab"
      },
      "execution_count": null,
      "outputs": [
        {
          "output_type": "stream",
          "name": "stdout",
          "text": [
            "enter a number5\n",
            "1\n",
            "12\n",
            "123\n",
            "1234\n",
            "12345\n"
          ]
        }
      ]
    },
    {
      "cell_type": "markdown",
      "source": [
        "print first 10 natural number with while ;loop\n"
      ],
      "metadata": {
        "id": "QjHvxMpF1zDY"
      }
    },
    {
      "cell_type": "code",
      "source": [
        "i=1\n",
        "while i<11:\n",
        "  print(i)\n",
        "  i=i+1"
      ],
      "metadata": {
        "colab": {
          "base_uri": "https://localhost:8080/"
        },
        "id": "G_EIOsIq16Bu",
        "outputId": "5e884c69-1cb6-4f56-c1f0-e01d5eb9c49e"
      },
      "execution_count": null,
      "outputs": [
        {
          "output_type": "stream",
          "name": "stdout",
          "text": [
            "1\n",
            "2\n",
            "3\n",
            "4\n",
            "5\n",
            "6\n",
            "7\n",
            "8\n",
            "9\n",
            "10\n"
          ]
        }
      ]
    },
    {
      "cell_type": "code",
      "source": [
        "x=int(input(\"enter a number\"))\n",
        "for i in range(1,x+1):\n",
        "  for j in range(1,i+1):\n",
        "    print(\"*\",end=\"\")\n",
        "  print(\"\\r\")"
      ],
      "metadata": {
        "colab": {
          "base_uri": "https://localhost:8080/"
        },
        "id": "KHzNfmB99HMw",
        "outputId": "ca72ef47-2fd4-4c88-ed2c-38efe497e2e2"
      },
      "execution_count": null,
      "outputs": [
        {
          "output_type": "stream",
          "name": "stdout",
          "text": [
            "enter a number4\n",
            "*\n",
            "**\n",
            "***\n",
            "****\n"
          ]
        }
      ]
    },
    {
      "cell_type": "code",
      "source": [
        "x=int(input(\"enter number of rows\"))\n",
        "for i in range(1,x+1):\n",
        "  for j in range(1,x+1):\n",
        "    if (j<=x-i):\n",
        "      print(' ',end='')\n",
        "    else:\n",
        "      print(\"*\",end='')\n",
        "  print(\"\\r\")\n",
        "\n",
        "\n",
        " "
      ],
      "metadata": {
        "colab": {
          "base_uri": "https://localhost:8080/"
        },
        "id": "EdWl06o19pBj",
        "outputId": "4e43ca41-55a9-4f32-ba10-186c988ba725"
      },
      "execution_count": null,
      "outputs": [
        {
          "output_type": "stream",
          "name": "stdout",
          "text": [
            "enter number of rows4\n",
            "   *\n",
            "  **\n",
            " ***\n",
            "****\n"
          ]
        }
      ]
    },
    {
      "cell_type": "code",
      "source": [
        ""
      ],
      "metadata": {
        "id": "8tO6Yaa9yZzb"
      },
      "execution_count": null,
      "outputs": []
    },
    {
      "cell_type": "markdown",
      "source": [
        ""
      ],
      "metadata": {
        "id": "9sberIMtyjZq"
      }
    },
    {
      "cell_type": "markdown",
      "source": [
        "\n",
        "\n",
        "```\n",
        "## This is formatted as code\n",
        "```\n",
        "\n",
        "# functions\n"
      ],
      "metadata": {
        "id": "l3ZlUAS9yllM"
      }
    },
    {
      "cell_type": "code",
      "source": [
        "\n",
        "def reverse(num):\n",
        "  s=0\n",
        "  while num!=0:\n",
        "    r=num%10\n",
        "    s=s*10+r\n",
        "    num=num//10\n",
        "  return(s)\n",
        "\n",
        "n=int(input(\"enter the number\"))\n",
        "ans=reverse(n)\n",
        "print(ans)\n"
      ],
      "metadata": {
        "colab": {
          "base_uri": "https://localhost:8080/"
        },
        "id": "Lm0KlYzly1e_",
        "outputId": "dd1de023-9e50-4137-8700-bceb458ed91b"
      },
      "execution_count": null,
      "outputs": [
        {
          "output_type": "stream",
          "name": "stdout",
          "text": [
            "enter the number679055\n",
            "550976\n"
          ]
        }
      ]
    },
    {
      "cell_type": "code",
      "source": [
        ""
      ],
      "metadata": {
        "id": "UKuFJ4c3G4dm"
      },
      "execution_count": null,
      "outputs": []
    },
    {
      "cell_type": "markdown",
      "source": [
        "factorial\n"
      ],
      "metadata": {
        "id": "jHGdWgtcG6iZ"
      }
    },
    {
      "cell_type": "code",
      "source": [
        "def fact(n):\n",
        "  if n==1:\n",
        "    fact=1"
      ],
      "metadata": {
        "id": "BN7EBoMUG9XQ"
      },
      "execution_count": null,
      "outputs": []
    }
  ]
}